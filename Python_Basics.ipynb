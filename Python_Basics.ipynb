{
  "nbformat": 4,
  "nbformat_minor": 0,
  "metadata": {
    "colab": {
      "provenance": [],
      "include_colab_link": true
    },
    "kernelspec": {
      "name": "python3",
      "display_name": "Python 3"
    },
    "language_info": {
      "name": "python"
    }
  },
  "cells": [
    {
      "cell_type": "markdown",
      "metadata": {
        "id": "view-in-github",
        "colab_type": "text"
      },
      "source": [
        "<a href=\"https://colab.research.google.com/github/vKrish14/Complete-Python-Bootcamp/blob/main/Python_Basics.ipynb\" target=\"_parent\"><img src=\"https://colab.research.google.com/assets/colab-badge.svg\" alt=\"Open In Colab\"/></a>"
      ]
    },
    {
      "cell_type": "markdown",
      "metadata": {
        "id": "NgayMd7cK3U6"
      },
      "source": [
        "---\n",
        "# **Learn Python in 2 hr**\n",
        "---\n",
        "\n",
        "### There are 16 programs to explain the various concepts in python programming such as:\n",
        "\n",
        "- Syntex,\n",
        "- Loop,\n",
        "- if-else,\n",
        "- Data Structures,\n",
        "- Strings,\n",
        "- File Handaling,\n",
        "- Exception Handaling,\n",
        "- Random Numbers,\n",
        "- Command Line Argunment\n",
        "- Use of Libraries\n",
        "\n",
        "---\n",
        "### **Self learning resource**\n",
        "Tutorial on Python (Byte of Python) **<a href=\"https://python.swaroopch.com/\"> Click Here</a>**\n",
        "\n",
        "\n",
        "```\n",
        "\n",
        "\n",
        "\n",
        "```\n",
        "\n",
        "\n",
        "\n",
        "\n",
        "---\n",
        "# **1 Hello World**\n",
        "---\n",
        "**Learning:** How to print and run python program"
      ]
    },
    {
      "cell_type": "code",
      "metadata": {
        "colab": {
          "base_uri": "https://localhost:8080/"
        },
        "id": "e4JFo1WM8ZON",
        "outputId": "ae516ef3-5b09-4969-a065-2da155b62bd7"
      },
      "source": [
        "print (\"Hello World\")"
      ],
      "execution_count": null,
      "outputs": [
        {
          "output_type": "stream",
          "name": "stdout",
          "text": [
            "Hello World\n"
          ]
        }
      ]
    },
    {
      "cell_type": "markdown",
      "metadata": {
        "id": "oBs7uRGQPn3J"
      },
      "source": [
        "**Assingment 1.1**: WAP to print your name three times"
      ]
    },
    {
      "cell_type": "markdown",
      "metadata": {
        "id": "EOp1wf9hlyC2"
      },
      "source": [
        "---\n",
        "# **2 Add numbers and Concatinate strings**\n",
        "**Learning:** How to declare variable, add, concatenate and print the result.\n",
        "\n",
        "---\n",
        "### **2.1 Add two numbers**\n"
      ]
    },
    {
      "cell_type": "code",
      "metadata": {
        "id": "sk_6l4N6l-vH",
        "colab": {
          "base_uri": "https://localhost:8080/"
        },
        "outputId": "f54df559-2cdb-4418-e4a7-3f2ab835df48"
      },
      "source": [
        "a = 10\n",
        "b = 220\n",
        "c = a + b       # Add two numbers\n",
        "print (a, \" + \", b, \" --> \", c)"
      ],
      "execution_count": null,
      "outputs": [
        {
          "output_type": "stream",
          "name": "stdout",
          "text": [
            "10  +  220  -->  230\n"
          ]
        }
      ]
    },
    {
      "cell_type": "markdown",
      "metadata": {
        "id": "iGXiAQqI4AvC"
      },
      "source": [
        "\n",
        "---\n",
        "### **2.2 Concatinate two strings**\n",
        "---"
      ]
    },
    {
      "cell_type": "code",
      "metadata": {
        "id": "o-kCSsW7lxNF",
        "colab": {
          "base_uri": "https://localhost:8080/"
        },
        "outputId": "6f9de953-8719-482f-f124-88caa57c495e"
      },
      "source": [
        "a = \"Bhagat\"\n",
        "b = \" Singh\"\n",
        "c = a + b\t\t# Concatinate two strings\n",
        "print (a, \" + \", b, \" --> \", c)"
      ],
      "execution_count": null,
      "outputs": [
        {
          "output_type": "stream",
          "name": "stdout",
          "text": [
            "Bhagat  +   Singh  -->  Bhagat Singh\n"
          ]
        }
      ]
    },
    {
      "cell_type": "markdown",
      "metadata": {
        "id": "DOZfIRp04ZvM"
      },
      "source": [
        "\n",
        "---\n",
        "### **2.3 Concatinate string with number**\n",
        "---"
      ]
    },
    {
      "cell_type": "code",
      "metadata": {
        "colab": {
          "base_uri": "https://localhost:8080/"
        },
        "id": "BuJp15Fd4ZvS",
        "outputId": "0c88fb90-e1d0-412f-aa36-0b17778de991"
      },
      "source": [
        "a = \"Bhagat\"\n",
        "b = 100\n",
        "c = a + str(b)\t\t# Concatinate string with number\n",
        "print (a, \" + \", b, \" --> \", c)\n"
      ],
      "execution_count": null,
      "outputs": [
        {
          "output_type": "stream",
          "name": "stdout",
          "text": [
            "Bhagat  +  100  -->  Bhagat100\n"
          ]
        }
      ]
    },
    {
      "cell_type": "markdown",
      "metadata": {
        "id": "hA7PLi-m4V8s"
      },
      "source": [
        "**Assingment 2.1**: WAP to add three numbers and print the result.\n",
        "\n",
        "**Assingment 2.2**: WAP to concatinate three strings and print the result."
      ]
    },
    {
      "cell_type": "markdown",
      "metadata": {
        "id": "z1uDaVtK5tX_"
      },
      "source": [
        "---\n",
        "# **3 Input from user**\n",
        "**Learning:** How to take input from user\n",
        "\n",
        "---\n",
        "### **3.1 Input two strings from user and concatinate them**\n",
        "---"
      ]
    },
    {
      "cell_type": "code",
      "metadata": {
        "id": "aDsOjDWs5tYB",
        "colab": {
          "base_uri": "https://localhost:8080/"
        },
        "outputId": "cf6016a8-b4bc-41aa-cba5-d6bf7c51cdcf"
      },
      "source": [
        "a = input(\"Enter First String: \")\n",
        "b = input(\"Enter Second String: \")\n",
        "c = a + b\t\t# concatinate two strings\n",
        "print  (a, \" + \", b, \"      --> \", c)\n",
        "\n",
        "# Run the program with (1) Two strings and (2) Two numbers"
      ],
      "execution_count": null,
      "outputs": [
        {
          "output_type": "stream",
          "name": "stdout",
          "text": [
            "Enter First String: 23gf\n",
            "Enter Second String: ihave\n",
            "23gf  +  ihave       -->  23gfihave\n"
          ]
        }
      ]
    },
    {
      "cell_type": "markdown",
      "metadata": {
        "id": "4CAypM6A5Jmx"
      },
      "source": [
        "---\n",
        "### **3.2 Input two numbers from user and add them**\n",
        "---"
      ]
    },
    {
      "cell_type": "code",
      "metadata": {
        "id": "EzB8G_a95d4X",
        "colab": {
          "base_uri": "https://localhost:8080/"
        },
        "outputId": "5a14d16e-a230-493c-974a-cd30d4a5000d"
      },
      "source": [
        "a = int(input(\"Enter First No: \"))\n",
        "b = int(input(\"Enter Second No: \"))\n",
        "c = a + b\n",
        "print (a, \" + \", b, \" --> \", c)"
      ],
      "execution_count": null,
      "outputs": [
        {
          "output_type": "stream",
          "name": "stdout",
          "text": [
            "Enter First No: 7\n",
            "Enter Second No: 9\n",
            "7  +  9  -->  16\n"
          ]
        }
      ]
    },
    {
      "cell_type": "markdown",
      "metadata": {
        "id": "VCXIhMtP-puV"
      },
      "source": [
        "---\n",
        "# **4 Loop**\n",
        "**Learning:** Learn various loops.\n",
        "\n",
        "---\n",
        "### **4.1 While Loop**"
      ]
    },
    {
      "cell_type": "code",
      "metadata": {
        "id": "ESdyGeh9-puX",
        "colab": {
          "base_uri": "https://localhost:8080/"
        },
        "outputId": "86d9bd93-9b37-487a-a289-e3808003979d"
      },
      "source": [
        "i=1\n",
        "while i <= 10:\n",
        "\tprint (i)\n",
        "\ti = i+1"
      ],
      "execution_count": null,
      "outputs": [
        {
          "output_type": "stream",
          "name": "stdout",
          "text": [
            "1\n",
            "2\n",
            "3\n",
            "4\n",
            "5\n",
            "6\n",
            "7\n",
            "8\n",
            "9\n",
            "10\n"
          ]
        }
      ]
    },
    {
      "cell_type": "markdown",
      "metadata": {
        "id": "rd_F8ksi-puZ"
      },
      "source": [
        "---\n",
        "### **4.2 Range Function**\n",
        "---"
      ]
    },
    {
      "cell_type": "code",
      "metadata": {
        "id": "_U_Of2tu-puZ",
        "colab": {
          "base_uri": "https://localhost:8080/"
        },
        "outputId": "ff4034e9-52eb-4345-8044-3735a7628e84"
      },
      "source": [
        "print (\"range(10)        --> \", list(range(10)))\n",
        "print (\"range(10,20)     --> \", list(range(10,20)))\n",
        "print (\"range(0,20,2)    --> \", list(range(2,20,2)))\n",
        "print (\"range(-10,-20,2) --> \", list(range(-10,-20,2)))\n",
        "print (\"range(-10,-20,-2)--> \", list(range(-10,-20,-2)))"
      ],
      "execution_count": null,
      "outputs": [
        {
          "output_type": "stream",
          "name": "stdout",
          "text": [
            "range(10)        -->  [0, 1, 2, 3, 4, 5, 6, 7, 8, 9]\n",
            "range(10,20)     -->  [10, 11, 12, 13, 14, 15, 16, 17, 18, 19]\n",
            "range(0,20,2)    -->  [2, 4, 6, 8, 10, 12, 14, 16, 18]\n",
            "range(-10,-20,2) -->  []\n",
            "range(-10,-20,-2)-->  [-10, -12, -14, -16, -18]\n"
          ]
        }
      ]
    },
    {
      "cell_type": "markdown",
      "metadata": {
        "id": "Xny977qN_f_f"
      },
      "source": [
        "---\n",
        "### **4.3 For loop**\n",
        "---\n",
        "### **4.3.1 For loop - Version 1**"
      ]
    },
    {
      "cell_type": "code",
      "metadata": {
        "id": "JXsAol2L_f_h",
        "colab": {
          "base_uri": "https://localhost:8080/"
        },
        "outputId": "3085e123-4ab3-437b-b3d2-1575abc78a35"
      },
      "source": [
        "for i in range(0,11):\n",
        "\tprint (i)"
      ],
      "execution_count": null,
      "outputs": [
        {
          "output_type": "stream",
          "name": "stdout",
          "text": [
            "0\n",
            "1\n",
            "2\n",
            "3\n",
            "4\n",
            "5\n",
            "6\n",
            "7\n",
            "8\n",
            "9\n",
            "10\n"
          ]
        }
      ]
    },
    {
      "cell_type": "markdown",
      "metadata": {
        "id": "Xk5XRRV8_gMq"
      },
      "source": [
        "---\n",
        "### **4.3.2 For loop - Version 2**\n",
        "---"
      ]
    },
    {
      "cell_type": "code",
      "metadata": {
        "id": "w8scyduB_gMr",
        "colab": {
          "base_uri": "https://localhost:8080/"
        },
        "outputId": "83d0807b-4b64-46a3-b950-ff92787c0b3f"
      },
      "source": [
        "for i in range(0,20,2):\n",
        "\tprint (i)"
      ],
      "execution_count": null,
      "outputs": [
        {
          "output_type": "stream",
          "name": "stdout",
          "text": [
            "0\n",
            "2\n",
            "4\n",
            "6\n",
            "8\n",
            "10\n",
            "12\n",
            "14\n",
            "16\n",
            "18\n"
          ]
        }
      ]
    },
    {
      "cell_type": "markdown",
      "metadata": {
        "id": "_NNQrHRXAZ8a"
      },
      "source": [
        "---\n",
        "### **4.3.3 For loop - Version 3**\n",
        "---"
      ]
    },
    {
      "cell_type": "code",
      "metadata": {
        "id": "18Im8yX7AZ8a",
        "colab": {
          "base_uri": "https://localhost:8080/"
        },
        "outputId": "67a261c3-0f81-4ba7-d77a-fb39c4c07f9e"
      },
      "source": [
        "for i in range(0,-10,-1):\n",
        "\tprint (i)"
      ],
      "execution_count": null,
      "outputs": [
        {
          "output_type": "stream",
          "name": "stdout",
          "text": [
            "0\n",
            "-1\n",
            "-2\n",
            "-3\n",
            "-4\n",
            "-5\n",
            "-6\n",
            "-7\n",
            "-8\n",
            "-9\n"
          ]
        }
      ]
    },
    {
      "cell_type": "markdown",
      "metadata": {
        "id": "Meq_Hv4RAaHS"
      },
      "source": [
        "---\n",
        "### **4.4 Print table of 5**\n",
        "---"
      ]
    },
    {
      "cell_type": "code",
      "metadata": {
        "id": "EvPN2wvOAaHT",
        "colab": {
          "base_uri": "https://localhost:8080/"
        },
        "outputId": "1343c5c4-0fe2-416b-bad0-5afcbd18dad3"
      },
      "source": [
        "for i in range(1,11):\n",
        "\tprint (5,\" * \", i , \" = \", i * 5)"
      ],
      "execution_count": null,
      "outputs": [
        {
          "output_type": "stream",
          "name": "stdout",
          "text": [
            "5  *  1  =  5\n",
            "5  *  2  =  10\n",
            "5  *  3  =  15\n",
            "5  *  4  =  20\n",
            "5  *  5  =  25\n",
            "5  *  6  =  30\n",
            "5  *  7  =  35\n",
            "5  *  8  =  40\n",
            "5  *  9  =  45\n",
            "5  *  10  =  50\n"
          ]
        }
      ]
    },
    {
      "cell_type": "markdown",
      "metadata": {
        "id": "aZErlsXYAaPu"
      },
      "source": [
        "---\n",
        "### **4.5 Sum all numbers from 1 to 10**\n",
        "---\n",
        "### **4.5.1 Version 1**"
      ]
    },
    {
      "cell_type": "code",
      "metadata": {
        "id": "ddCg6qxQAaPv",
        "colab": {
          "base_uri": "https://localhost:8080/"
        },
        "outputId": "296e9a99-8160-467d-a622-f2fa5c3dbbe4"
      },
      "source": [
        "s=0\n",
        "for i in range(1,11):\n",
        "\ts=s+i\n",
        "print (\"Sum is --> \",s)"
      ],
      "execution_count": null,
      "outputs": [
        {
          "output_type": "stream",
          "name": "stdout",
          "text": [
            "Sum is -->  55\n"
          ]
        }
      ]
    },
    {
      "cell_type": "markdown",
      "metadata": {
        "id": "UucWFIAt_gV_"
      },
      "source": [
        "---\n",
        "### **4.5.2 Version 2**\n",
        "---"
      ]
    },
    {
      "cell_type": "code",
      "metadata": {
        "id": "cD3y-1lM_gWB",
        "colab": {
          "base_uri": "https://localhost:8080/"
        },
        "outputId": "ffc7fc51-8bd2-4ac0-b190-5e5c01f09482"
      },
      "source": [
        "print (\"Sum is --> \", sum(range(1,11)))"
      ],
      "execution_count": null,
      "outputs": [
        {
          "output_type": "stream",
          "name": "stdout",
          "text": [
            "Sum is -->  55\n"
          ]
        }
      ]
    },
    {
      "cell_type": "code",
      "source": [
        "print (\"The table of 7 is :\",\"\\n\")\n",
        "for i in range(1,11):\n",
        "\tprint (\"7 *\",i,\"=\",i*7)\n",
        "\n",
        "print (\"\\n\",\"& The table of 9 is :\",\"\\n\")\n",
        "for i in range(1,11):\n",
        "\tprint (\"9 *\",i,\"=\",i*9)"
      ],
      "metadata": {
        "colab": {
          "base_uri": "https://localhost:8080/"
        },
        "id": "oCombFaoKby2",
        "outputId": "2d95e01f-2e84-4ce5-f710-576bb162bf1b"
      },
      "execution_count": null,
      "outputs": [
        {
          "output_type": "stream",
          "name": "stdout",
          "text": [
            "The table of 7 is : \n",
            "\n",
            "7 * 1 = 7\n",
            "7 * 2 = 14\n",
            "7 * 3 = 21\n",
            "7 * 4 = 28\n",
            "7 * 5 = 35\n",
            "7 * 6 = 42\n",
            "7 * 7 = 49\n",
            "7 * 8 = 56\n",
            "7 * 9 = 63\n",
            "7 * 10 = 70\n",
            "\n",
            " & The table of 9 is : \n",
            "\n",
            "9 * 1 = 9\n",
            "9 * 2 = 18\n",
            "9 * 3 = 27\n",
            "9 * 4 = 36\n",
            "9 * 5 = 45\n",
            "9 * 6 = 54\n",
            "9 * 7 = 63\n",
            "9 * 8 = 72\n",
            "9 * 9 = 81\n",
            "9 * 10 = 90\n"
          ]
        }
      ]
    },
    {
      "cell_type": "markdown",
      "metadata": {
        "id": "DnUEH0WQ-pua"
      },
      "source": [
        "**AssigNment 4.1:** WAP to print the table of 7, 9.\n",
        "\n",
        "**Assingment 4.2:** WAP to print the table of n and n is given by user.\n",
        "\n",
        "**Assingment 4.3:** WAP to add all the numbers from 1 to n and n is given by user."
      ]
    },
    {
      "cell_type": "markdown",
      "metadata": {
        "id": "6eraxEhZCJRU"
      },
      "source": [
        "---\n",
        "# **5 If-Else - Conditional Checking**\n",
        "**Learning:** if-else Condition\n",
        "\n",
        "---\n",
        "### **5.1 Input two numbers from user and compare them**"
      ]
    },
    {
      "cell_type": "code",
      "metadata": {
        "id": "63a8CKQ9CJRV",
        "colab": {
          "base_uri": "https://localhost:8080/"
        },
        "outputId": "99023346-6c72-4874-b670-24e1e6971c0e"
      },
      "source": [
        "a = int(input(\"Enter First No: \"))\n",
        "b = int(input(\"Enter Second No: \"))\n",
        "if  a > b:\n",
        "\tprint (a,\" > \",b)\n",
        "else:\n",
        "\tprint (a,\" < \",b)"
      ],
      "execution_count": null,
      "outputs": [
        {
          "output_type": "stream",
          "name": "stdout",
          "text": [
            "Enter First No: 9\n",
            "Enter Second No: 8\n",
            "9  >  8\n"
          ]
        }
      ]
    },
    {
      "cell_type": "markdown",
      "metadata": {
        "id": "zPayD7lwCJRW"
      },
      "source": [
        "---\n",
        "### **5.2 Check weather a number is odd or even**\n",
        "---"
      ]
    },
    {
      "cell_type": "code",
      "metadata": {
        "id": "I2ohfxlRCJRW"
      },
      "source": [
        "n = int(input(\"Enter a No: \"))\n",
        "if  n % 2 == 0:\n",
        "\tprint (n,\" is even\")\n",
        "else:\n",
        "\tprint (n,\" is odd\")"
      ],
      "execution_count": null,
      "outputs": []
    },
    {
      "cell_type": "markdown",
      "metadata": {
        "id": "861tynfFCJRX"
      },
      "source": [
        "---\n",
        "### **5.3 Check weather a number is prime of not**\n",
        "---"
      ]
    },
    {
      "cell_type": "code",
      "metadata": {
        "id": "q37Sy99JCJRZ",
        "colab": {
          "base_uri": "https://localhost:8080/"
        },
        "outputId": "a0789b42-3593-4a66-c80d-b88115dad66d"
      },
      "source": [
        "n = int(input(\"Enter a No: \"))\n",
        "f=0\n",
        "for i in range(2, n//2 + 1):\n",
        "\tif  n % i == 0:\n",
        "\t\tf=1\n",
        "\t\tbreak\n",
        "\n",
        "if f==0:\n",
        "\tprint (\"Prime\")\n",
        "else:\n",
        "\tprint (\"Not Prime\")"
      ],
      "execution_count": null,
      "outputs": [
        {
          "output_type": "stream",
          "name": "stdout",
          "text": [
            "Enter a No: 45\n",
            "Not Prime\n"
          ]
        }
      ]
    },
    {
      "cell_type": "markdown",
      "metadata": {
        "id": "YCf466JQCJRa"
      },
      "source": [
        "---\n",
        "### **5.4 Conditional Checking - Compare strings**\n",
        "---"
      ]
    },
    {
      "cell_type": "code",
      "metadata": {
        "id": "YSTLUkUVCJRb",
        "colab": {
          "base_uri": "https://localhost:8080/"
        },
        "outputId": "fbb3b2f3-5aa2-42d6-f4e9-4adac325b9d9"
      },
      "source": [
        "a = input(\"Enter First String : \")\n",
        "b = input(\"Enter Second String: \")\n",
        "\n",
        "if a == b:\n",
        "\tprint (\"a == b\")\n",
        "elif a >= b:\n",
        "\tprint (a ,\">\", b)\n",
        "else:\n",
        "\tprint (a, \"<\", b)"
      ],
      "execution_count": null,
      "outputs": [
        {
          "output_type": "stream",
          "name": "stdout",
          "text": [
            "Enter First String : Name\n",
            "Enter Second String: Fame\n",
            "Name > Fame\n"
          ]
        }
      ]
    },
    {
      "cell_type": "markdown",
      "metadata": {
        "id": "bPPQtf1ACJRg"
      },
      "source": [
        "**Assingment 5.1:** WAP to find max amoung three numbers and input from user.\n",
        "\n",
        "1.   List item\n",
        "\n",
        "2.   List item\n",
        "\n",
        "[Try max() function]\n",
        "\n",
        "**Assingment 5.2:** WAP to add all numbers divisible by 7 and 9 from 1 to n and n is given by the user.\n",
        "\n",
        "**Assingment 5.3:** WAP to add all prime numbers from 1 to n and n is given by the user.\n"
      ]
    },
    {
      "cell_type": "markdown",
      "metadata": {
        "id": "_dC1CuVnDipZ"
      },
      "source": [
        "---\n",
        "# **6 Functions**\n",
        "**Learning:** How to declare and call function\n",
        "\n",
        "---\n",
        "### **6.1 Add two numbers**"
      ]
    },
    {
      "cell_type": "code",
      "metadata": {
        "id": "_Vw-ZYlDDipb"
      },
      "source": [
        "def Add(a,b):\n",
        "\tc=a+b\n",
        "\treturn c\n",
        "\n",
        "print (\"Add(10,20) -->\", Add(10,20))\n",
        "print (\"Add(20,50) -->\", Add(20,50))\n",
        "print (\"Add(80,200) -->\", Add(80,200))"
      ],
      "execution_count": null,
      "outputs": []
    },
    {
      "cell_type": "markdown",
      "metadata": {
        "id": "ygKAg2QjDipc"
      },
      "source": [
        "---\n",
        "### **6.2 Prime number**\n",
        "---"
      ]
    },
    {
      "cell_type": "code",
      "metadata": {
        "id": "sg8feM_YDipc",
        "colab": {
          "base_uri": "https://localhost:8080/"
        },
        "outputId": "66998946-b519-48a3-b791-6055d5d46919"
      },
      "source": [
        "def IsPrime(n):\n",
        "\tfor i in range(2, n//2 + 1):\n",
        "\t\tif n%i==0:\n",
        "\t\t\treturn 0\n",
        "\treturn 1\n",
        "\n",
        "print (\"IsPrime(20)  --> \", IsPrime(20))\n",
        "print (\"IsPrime(23)  --> \", IsPrime(23))\n",
        "print (\"IsPrime(200) --> \", IsPrime(200))\n",
        "print (\"IsPrime(37)  --> \", IsPrime(37))"
      ],
      "execution_count": null,
      "outputs": [
        {
          "output_type": "stream",
          "name": "stdout",
          "text": [
            "IsPrime(20)  -->  0\n",
            "IsPrime(23)  -->  1\n",
            "IsPrime(200) -->  0\n",
            "IsPrime(37)  -->  1\n"
          ]
        }
      ]
    },
    {
      "cell_type": "markdown",
      "metadata": {
        "id": "cMBI2zEJDipd"
      },
      "source": [
        "---\n",
        "### **6.3 Add 1 to n**\n",
        "---"
      ]
    },
    {
      "cell_type": "code",
      "metadata": {
        "id": "OdcwPL2BDipe",
        "colab": {
          "base_uri": "https://localhost:8080/"
        },
        "outputId": "10e1bca9-98af-4a6c-df0c-11677aa6ce24"
      },
      "source": [
        "def AddN(n):\n",
        "\ts= sum(range(n+1))\n",
        "\treturn s\n",
        "\n",
        "print (\"AddN(10)  --> \", AddN(10))\n",
        "print (\"AddN(20)  --> \", AddN(20))\n",
        "print (\"AddN(50)  --> \", AddN(50))\n",
        "print (\"AddN(200) --> \", AddN(200))"
      ],
      "execution_count": null,
      "outputs": [
        {
          "output_type": "stream",
          "name": "stdout",
          "text": [
            "AddN(10)  -->  55\n",
            "AddN(20)  -->  210\n",
            "AddN(50)  -->  1275\n",
            "AddN(200) -->  20100\n"
          ]
        }
      ]
    },
    {
      "cell_type": "code",
      "source": [
        "def AddN(n):\n",
        "  s = sum(range(n+1))\n",
        "  return s\n",
        "\n",
        "n = input(\"Enter the value of n: \")\n",
        "# Convert the input to an integer before passing it to the function\n",
        "n = int(n)\n",
        "print (\"AddN(\", n, \")\"  ,\"--> \", AddN(n))"
      ],
      "metadata": {
        "colab": {
          "base_uri": "https://localhost:8080/"
        },
        "id": "10WJHZvAXijM",
        "outputId": "f1eec091-0dc5-4672-ecf6-95471a080551"
      },
      "execution_count": null,
      "outputs": [
        {
          "output_type": "stream",
          "name": "stdout",
          "text": [
            "Enter the value of n: 7\n",
            "AddN( 7 ) -->  28\n"
          ]
        }
      ]
    },
    {
      "cell_type": "markdown",
      "metadata": {
        "id": "bWcn3nSlDipg"
      },
      "source": [
        "\n",
        "**Assingment 6.1:** WAP using function that add all odd numbers from 1 to n, n is given by the user.\n",
        "\n",
        "**Assingment 6.2:** WAP using function that add all prime numbers from 1 to n, n given by the user."
      ]
    },
    {
      "cell_type": "markdown",
      "metadata": {
        "id": "n6nFmz3zEfuq"
      },
      "source": [
        "---\n",
        "# **7 Math library**\n",
        "**Learning:** Use math library\n",
        "\n",
        "---"
      ]
    },
    {
      "cell_type": "code",
      "metadata": {
        "id": "qLiy6UxaEfus",
        "colab": {
          "base_uri": "https://localhost:8080/"
        },
        "outputId": "23a042e8-1136-4130-835c-91f763499189"
      },
      "source": [
        "import math as m\n",
        "print (\"exp(-200)    --> \", m.exp(-200))  # Exponential function\n",
        "print (\"log(100,2)   --> \", m.log(100,2)) # Log\n",
        "print (\"log(100,10)  --> \", m.log(100,10))# Log\n",
        "print (\"log10(100)   --> \", m.log10(100)) # Log 10\n",
        "print (\"m.cos(30)    --> \", m.cos(30))    # cos\n",
        "print (\"m.sin(30)    --> \", m.sin(30))    # sin\n",
        "print (\"m.tan(30)    --> \", m.tan(30))    # tan\n",
        "print (\"m.sqrt(324)  --> \", m.sqrt(324))\n",
        "print (\"m.ceil(89.9) --> \", m.ceil(89.9))\n",
        "print (\"m.floor(89.9)--> \", m.floor(89.9))"
      ],
      "execution_count": null,
      "outputs": [
        {
          "output_type": "stream",
          "name": "stdout",
          "text": [
            "exp(-200)    -->  1.3838965267367376e-87\n",
            "log(100,2)   -->  6.643856189774725\n",
            "log(100,10)  -->  2.0\n",
            "log10(100)   -->  2.0\n",
            "m.cos(30)    -->  0.15425144988758405\n",
            "m.sin(30)    -->  -0.9880316240928618\n",
            "m.tan(30)    -->  -6.405331196646276\n",
            "m.sqrt(324)  -->  18.0\n",
            "m.ceil(89.9) -->  90\n",
            "m.floor(89.9)-->  89\n"
          ]
        }
      ]
    },
    {
      "cell_type": "markdown",
      "metadata": {
        "id": "uuGWj5Q9E7na"
      },
      "source": [
        "---\n",
        "# **8 Strings**\n",
        "**Learning:** How to handle string\n",
        "\n",
        "---\n",
        "### **8.1 Indexing in string**"
      ]
    },
    {
      "cell_type": "code",
      "metadata": {
        "id": "1OvIOp21E7nc"
      },
      "source": [
        "var = 'Hello World!'\n",
        "print (\"var      --> \", var)\n",
        "print (\"var[0]   --> \", var[0])\n",
        "print (\"var[1:5] --> \", var[1:5])\n",
        "print (\"var[:-5] --> \", var[:-5])"
      ],
      "execution_count": null,
      "outputs": []
    },
    {
      "cell_type": "markdown",
      "metadata": {
        "id": "X9V-dQU-E7nd"
      },
      "source": [
        "---\n",
        "### **8.2 String length, upper, lower**\n",
        "---"
      ]
    },
    {
      "cell_type": "code",
      "metadata": {
        "id": "y8HSuWkEE7ne"
      },
      "source": [
        "var = 'Hello World!'\n",
        "print (\"String --> \", var)\n",
        "print (\"Length --> : \", len(var))\n",
        "print (\"Upper  --> : \", var.upper())\n",
        "print (\"Lower  --> : \", var.lower())"
      ],
      "execution_count": null,
      "outputs": []
    },
    {
      "cell_type": "markdown",
      "metadata": {
        "id": "4ySbLzf1Fpi5"
      },
      "source": [
        "---\n",
        "### **8.3 String formatting**\n",
        "---"
      ]
    },
    {
      "cell_type": "code",
      "metadata": {
        "id": "RDB15138Fpi6",
        "colab": {
          "base_uri": "https://localhost:8080/"
        },
        "outputId": "b48de847-53b4-4e36-ce06-27779f7c30e7"
      },
      "source": [
        "name=input(\"Enter your name: \")\n",
        "age=int(input(\"Enter your age : \"))\n",
        "price=float(input(\"Enter Your Net Worth: \"))\n",
        "s=\"\\nYour name is %s, age is %d and your Net Worth is %f\" %(name.upper(),age,price)\n",
        "print(s)"
      ],
      "execution_count": null,
      "outputs": [
        {
          "output_type": "stream",
          "name": "stdout",
          "text": [
            "Enter your name: Krishnal\n",
            "Enter your age : 20\n",
            "Enter Your Net Worth: 9999999999999999\n",
            "\n",
            "Your name is KRISHNAL, age is 20 and your Net Worth is 10000000000000000.000000\n"
          ]
        }
      ]
    },
    {
      "cell_type": "markdown",
      "metadata": {
        "id": "27Y8Dk7XFp1F"
      },
      "source": [
        "---\n",
        "### **8.4 String in Triple Quotes**\n",
        "---"
      ]
    },
    {
      "cell_type": "code",
      "metadata": {
        "id": "jiOlVj37Fp1H"
      },
      "source": [
        "para_str = \"\"\"This is a long string that is made up of\n",
        "several lines and non-printable characters such as\n",
        "TAB ( \\t ) and they will show up that way when displayed.\n",
        "NEWLINEs within the string, whether explicitly given like\n",
        "this within the brackets [ \\n ], or just a NEWLINE within\n",
        "the variable assignment will also show up.\n",
        "\"\"\"\n",
        "print (para_str)"
      ],
      "execution_count": null,
      "outputs": []
    },
    {
      "cell_type": "markdown",
      "metadata": {
        "id": "WK4GTOeIFp-I"
      },
      "source": [
        "---\n",
        "### **8.5 String strip**\n",
        "---"
      ]
    },
    {
      "cell_type": "code",
      "metadata": {
        "id": "tXJQREI3Fp-J",
        "colab": {
          "base_uri": "https://localhost:8080/"
        },
        "outputId": "359195ff-f825-4042-8edd-e410eb924d40"
      },
      "source": [
        "var =\" Indian   Army    \"\n",
        "\n",
        "print(\"String    --> \", var)\n",
        "print(\"Length    --> \", len(var))\n",
        "print(\"var strip --> \", var.strip())\n",
        "print(\"Length of var after strip --> \", len(var.strip()))"
      ],
      "execution_count": null,
      "outputs": [
        {
          "output_type": "stream",
          "name": "stdout",
          "text": [
            "String    -->   Indian   Army    \n",
            "Length    -->  18\n",
            "var strip -->  Indian   Army\n",
            "Length of var after strip -->  13\n"
          ]
        }
      ]
    },
    {
      "cell_type": "markdown",
      "metadata": {
        "id": "_aSibOwQFqFC"
      },
      "source": [
        "---\n",
        "### **8.6 String split**\n",
        "---"
      ]
    },
    {
      "cell_type": "code",
      "metadata": {
        "id": "02uwsbaQFqFD",
        "colab": {
          "base_uri": "https://localhost:8080/"
        },
        "outputId": "79391bbd-a5b6-432a-aec3-51d9d8822929"
      },
      "source": [
        "var =\" Indian,   Army    \"\n",
        "\n",
        "print(\"String    --> \", var)\n",
        "print(\"Length    --> \", len(var))\n",
        "print(\"var split --> \", var.split())\n",
        "print(\"var split --> \", var.split(' '))\n",
        "print(\"var split --> \", var.split(','))\n",
        "\n",
        "# Strip + Split\n",
        "print(\"var split --> \", var.strip().split(','))\n"
      ],
      "execution_count": null,
      "outputs": [
        {
          "output_type": "stream",
          "name": "stdout",
          "text": [
            "String    -->   Indian,   Army    \n",
            "Length    -->  19\n",
            "var split -->  ['Indian,', 'Army']\n",
            "var split -->  ['', 'Indian,', '', '', 'Army', '', '', '', '']\n",
            "var split -->  [' Indian', '   Army    ']\n",
            "var split -->  ['Indian', '   Army']\n"
          ]
        }
      ]
    },
    {
      "cell_type": "markdown",
      "metadata": {
        "id": "TgsO9gfoFqMV"
      },
      "source": [
        "---\n",
        "### **8.7 Count in string**\n",
        "---"
      ]
    },
    {
      "cell_type": "code",
      "metadata": {
        "id": "lwrJzwy6FqMV",
        "colab": {
          "base_uri": "https://localhost:8080/"
        },
        "outputId": "37d4bd4b-a8bd-420b-88c6-6c9d2a56b18a"
      },
      "source": [
        "var=\" Indian Army    \"\n",
        "print (\"String       --> \", var\n",
        "       )\n",
        "print (\"Count of ' ' --> \", var.count(' '))\n",
        "print (\"Count of 'a' --> \", var.count('a'))\n",
        "print (\"Count of 'n' --> \", var.count('an'))"
      ],
      "execution_count": null,
      "outputs": [
        {
          "output_type": "stream",
          "name": "stdout",
          "text": [
            "String       -->   Indian Army    \n",
            "Count of ' ' -->  6\n",
            "Count of 'a' -->  1\n",
            "Count of 'n' -->  1\n"
          ]
        }
      ]
    },
    {
      "cell_type": "markdown",
      "metadata": {
        "id": "RYP11CU5FqUJ"
      },
      "source": [
        "---\n",
        "### **8.8 Reverse a String**\n",
        "---"
      ]
    },
    {
      "cell_type": "code",
      "metadata": {
        "id": "QSXd_wfOFqUK"
      },
      "source": [
        "var=\"Indian Army\"\n",
        "print (\"String    --> \", var)\n",
        "print (\"var[::1]  --> \", var[::1])\n",
        "print (\"var[::2]  --> \", var[::2])\n",
        "print (\"var[::-1] --> \", var[::-1])\n",
        "print (\"var[::-2] --> \", var[::-2])\n",
        "\n",
        "var=var[::-1]\n",
        "print (\"var after reverse --> \", var)"
      ],
      "execution_count": null,
      "outputs": []
    },
    {
      "cell_type": "markdown",
      "metadata": {
        "id": "E1Ie2pJRGiNz"
      },
      "source": [
        "---\n",
        "### **8.9 Palindrome**\n",
        "---"
      ]
    },
    {
      "cell_type": "code",
      "metadata": {
        "id": "-t2FMiSTGiN0",
        "colab": {
          "base_uri": "https://localhost:8080/"
        },
        "outputId": "06c91096-3198-474a-ea96-a3a53d554a4e"
      },
      "source": [
        "s1=\"Indian Army\"\n",
        "s2=\"malayalam\"\n",
        "s3=\"madam\"\n",
        "s4=\"teacher\"\n",
        "print (\"s1 --> \", s1==s1[::-1])\n",
        "print (\"s2 --> \", s2==s2[::-1])\n",
        "print (\"s3 --> \", s3==s3[::-1])\n",
        "print (\"s4 --> \", s4==s4[::-1])"
      ],
      "execution_count": null,
      "outputs": [
        {
          "output_type": "stream",
          "name": "stdout",
          "text": [
            "s1 -->  False\n",
            "s2 -->  True\n",
            "s3 -->  True\n",
            "s4 -->  False\n"
          ]
        }
      ]
    },
    {
      "cell_type": "markdown",
      "metadata": {
        "id": "MpgFLAABG0Nn"
      },
      "source": [
        "---\n",
        "# **9 Random Numbers/String**\n",
        "**Learning:** Generate Random Numbers/String\n",
        "\n",
        "---\n",
        "### **9.1 Generate random number between 0 and 1**"
      ]
    },
    {
      "cell_type": "code",
      "metadata": {
        "id": "B2jZpOnRG0Nn",
        "colab": {
          "base_uri": "https://localhost:8080/"
        },
        "outputId": "9073caec-69a8-4c86-832d-bbdc7b32797b"
      },
      "source": [
        "import random as r\n",
        "print (r.random())\n",
        "print (r.random())\n",
        "print (round(r.random(),4))"
      ],
      "execution_count": null,
      "outputs": [
        {
          "output_type": "stream",
          "name": "stdout",
          "text": [
            "0.4877743517644527\n",
            "0.826708745997548\n",
            "0.2678\n"
          ]
        }
      ]
    },
    {
      "cell_type": "markdown",
      "metadata": {
        "id": "wBI9otLPG0Nn"
      },
      "source": [
        "---\n",
        "### **9.2 Generate random integer number**\n",
        "---"
      ]
    },
    {
      "cell_type": "code",
      "metadata": {
        "id": "72NOmyH-G0No",
        "colab": {
          "base_uri": "https://localhost:8080/"
        },
        "outputId": "8fb4931b-c484-440a-f012-8b973c4d3c0e"
      },
      "source": [
        "import random as r\n",
        "print (r.randint(1, 100))\n",
        "print (r.randint(1, 100))\n",
        "print (r.randint(-10, 10))\n",
        "print (r.randint(-10, 10))"
      ],
      "execution_count": null,
      "outputs": [
        {
          "output_type": "stream",
          "name": "stdout",
          "text": [
            "59\n",
            "90\n",
            "3\n",
            "4\n"
          ]
        }
      ]
    },
    {
      "cell_type": "markdown",
      "metadata": {
        "id": "gFTecYJvG0No"
      },
      "source": [
        "---\n",
        "### **9.3 Generate random real number**\n",
        "---"
      ]
    },
    {
      "cell_type": "code",
      "metadata": {
        "id": "vs3jmtqtG0No",
        "colab": {
          "base_uri": "https://localhost:8080/"
        },
        "outputId": "c138f2b7-9d05-4502-ecdd-b67e93aef541"
      },
      "source": [
        "import random as r\n",
        "print (r.uniform(1, 100))\n",
        "print (r.uniform(1, 100))\n",
        "print (r.uniform (-10, 10))\n",
        "print (r.uniform (-10, 10))\n",
        "print (round(r.uniform (-10, 10),2))"
      ],
      "execution_count": null,
      "outputs": [
        {
          "output_type": "stream",
          "name": "stdout",
          "text": [
            "82.73137728675573\n",
            "57.71231658442697\n",
            "7.259421103255789\n",
            "1.5860273216170846\n",
            "5.84\n"
          ]
        }
      ]
    },
    {
      "cell_type": "markdown",
      "metadata": {
        "id": "DJ_9Kt4XG0Np"
      },
      "source": [
        "---\n",
        "### **9.4 Select sample from a list of elements**\n",
        "---"
      ]
    },
    {
      "cell_type": "code",
      "metadata": {
        "id": "ZVDp33YQG0Np",
        "colab": {
          "base_uri": "https://localhost:8080/"
        },
        "outputId": "c5f3db23-fb8b-4acd-a57d-19835818a5c7"
      },
      "source": [
        "import random as r\n",
        "\n",
        "A=[1, 2, 3, 4, 5, 6, 7, 8, 9, 10]\n",
        "\n",
        "print (r.sample(A, 4))\n",
        "print (r.sample(A, 2))\n",
        "print (r.sample(range(0,100), 2))\n",
        "print (r.sample(range(-100,100), 5))"
      ],
      "execution_count": null,
      "outputs": [
        {
          "output_type": "stream",
          "name": "stdout",
          "text": [
            "[6, 3, 2, 9]\n",
            "[1, 10]\n",
            "[70, 76]\n",
            "[90, 67, -59, 14, -81]\n"
          ]
        }
      ]
    },
    {
      "cell_type": "markdown",
      "metadata": {
        "id": "cgEXGBtsG0Np"
      },
      "source": [
        "---\n",
        "### **9.5 Generate random string**\n",
        "---"
      ]
    },
    {
      "cell_type": "code",
      "metadata": {
        "id": "T-FHSfgfG0Nq",
        "colab": {
          "base_uri": "https://localhost:8080/"
        },
        "outputId": "fc4d3d71-8de7-4b14-da27-c94cbe217f44"
      },
      "source": [
        "import string as s\n",
        "import random as r\n",
        "print (\"String        --> \",s.ascii_letters)\n",
        "\n",
        "passwd=r.sample(s.ascii_letters, 6)\n",
        "print (\"Selected Char --> \",passwd)\n",
        "\n",
        "passwd1=\"\".join(passwd)\n",
        "print (\"passwd1       --> \",passwd1)\n",
        "\n",
        "passwd2=\"+\".join(passwd)\n",
        "print (\"passwd2       --> \",passwd2)\n",
        "\n",
        "passwd3=\"*\".join(passwd)\n",
        "print (\"passwd3       --> \",passwd3)\n"
      ],
      "execution_count": null,
      "outputs": [
        {
          "output_type": "stream",
          "name": "stdout",
          "text": [
            "String        -->  abcdefghijklmnopqrstuvwxyzABCDEFGHIJKLMNOPQRSTUVWXYZ\n",
            "Selected Char -->  ['F', 'f', 'V', 'u', 'v', 'I']\n",
            "passwd1       -->  FfVuvI\n",
            "passwd2       -->  F+f+V+u+v+I\n",
            "passwd3       -->  F*f*V*u*v*I\n"
          ]
        }
      ]
    },
    {
      "cell_type": "markdown",
      "metadata": {
        "id": "9NFexXG1G0Nq"
      },
      "source": [
        "---\n",
        "### **9.6 Generate random digits**\n",
        "---"
      ]
    },
    {
      "cell_type": "code",
      "metadata": {
        "id": "mH0sHuuHG0Nq",
        "colab": {
          "base_uri": "https://localhost:8080/"
        },
        "outputId": "f3545458-60e1-49d4-863c-5bea23951d9b"
      },
      "source": [
        "import string as s\n",
        "import random as r\n",
        "print (\"Digits --> \",s.digits)\n",
        "\n",
        "otp=r.sample(s.digits, 5)\n",
        "print (\"Selected num1 --> \",otp)\n",
        "otp=\"\".join(otp)\n",
        "print (\"otp1          --> \",otp)\n",
        "\n",
        "otp=r.sample(s.digits, 5)\n",
        "print (\"Selected num2 --> \",otp)\n",
        "otp=\"\".join(otp)\n",
        "print (\"otp2          --> \",otp)\n",
        "\n",
        "otp=r.sample(s.digits, 9)\n",
        "print (\"Selected num2 --> \",otp)\n",
        "otp=\"\".join(otp)\n",
        "print (\"otp3          --> \",otp)"
      ],
      "execution_count": null,
      "outputs": [
        {
          "output_type": "stream",
          "name": "stdout",
          "text": [
            "Digits -->  0123456789\n",
            "Selected num1 -->  ['6', '9', '8', '3', '4']\n",
            "otp1          -->  69834\n",
            "Selected num2 -->  ['3', '6', '0', '5', '7']\n",
            "otp2          -->  36057\n",
            "Selected num2 -->  ['1', '2', '6', '0', '8', '3', '7', '5', '9']\n",
            "otp3          -->  126083759\n"
          ]
        }
      ]
    },
    {
      "cell_type": "markdown",
      "metadata": {
        "id": "1bcIKPDpG0Nr"
      },
      "source": [
        "---\n",
        "### **9.7 Generate random string + digits**\n",
        "---"
      ]
    },
    {
      "cell_type": "code",
      "metadata": {
        "id": "BG-ACfp0G0Nr",
        "colab": {
          "base_uri": "https://localhost:8080/"
        },
        "outputId": "6db7e1ea-eaf1-4ada-a0cf-df038dc7c8db"
      },
      "source": [
        "import string as s\n",
        "import random as r\n",
        "print (\"String + Digits --> \",s.ascii_letters + s.digits)\n",
        "\n",
        "mixPasswd=r.sample(s.ascii_letters + s.digits, 5)\n",
        "print (\"\\nSelected Str1 --> \",mixPasswd)\n",
        "mixPasswd=\"\".join(mixPasswd)\n",
        "print (\"mixPasswd1    --> \",mixPasswd)\n",
        "\n",
        "mixPasswd=r.sample(s.ascii_letters + s.digits, 6)\n",
        "print (\"\\nSelected Str2 --> \",mixPasswd)\n",
        "mixPasswd=\"\".join(mixPasswd)\n",
        "print (\"mixPasswd2    --> \",mixPasswd)\n",
        "\n",
        "splChar=\"#@!~%^&*()_+=-[]{}|\"\n",
        "mixPasswd=r.sample(splChar + s.ascii_letters + s.digits, 8)\n",
        "print (\"\\nSelected Str3 --> \",mixPasswd)\n",
        "mixPasswd=\"\".join(mixPasswd)\n",
        "print (\"mixPasswd3    --> \",mixPasswd)"
      ],
      "execution_count": null,
      "outputs": [
        {
          "output_type": "stream",
          "name": "stdout",
          "text": [
            "String + Digits -->  abcdefghijklmnopqrstuvwxyzABCDEFGHIJKLMNOPQRSTUVWXYZ0123456789\n",
            "\n",
            "Selected Str1 -->  ['K', 'o', 'D', 'h', 's']\n",
            "mixPasswd1    -->  KoDhs\n",
            "\n",
            "Selected Str2 -->  ['k', '1', 'f', 'O', '4', 'X']\n",
            "mixPasswd2    -->  k1fO4X\n",
            "\n",
            "Selected Str3 -->  ['D', 'A', '[', '+', '(', 'Q', 'F', 'r']\n",
            "mixPasswd3    -->  DA[+(QFr\n"
          ]
        }
      ]
    },
    {
      "cell_type": "markdown",
      "metadata": {
        "id": "WcdyFjhzJo9j"
      },
      "source": [
        "---\n",
        "# **10 Exception Handaling**\n",
        "**Learning:** How to handle exceptions\n",
        "\n",
        "---\n",
        "### **10.1 Error Generation**"
      ]
    },
    {
      "cell_type": "code",
      "metadata": {
        "id": "vKJEy_SYJo9k",
        "colab": {
          "base_uri": "https://localhost:8080/",
          "height": 245
        },
        "outputId": "c60cd298-7304-4259-c585-310db26aef9f"
      },
      "source": [
        "for i in range(-5,6):\n",
        "\tprint (\"100/\",i,\" --> \", 100/i)"
      ],
      "execution_count": null,
      "outputs": [
        {
          "output_type": "stream",
          "name": "stdout",
          "text": [
            "100/ -5  -->  -20.0\n",
            "100/ -4  -->  -25.0\n",
            "100/ -3  -->  -33.333333333333336\n",
            "100/ -2  -->  -50.0\n",
            "100/ -1  -->  -100.0\n"
          ]
        },
        {
          "output_type": "error",
          "ename": "ZeroDivisionError",
          "evalue": "division by zero",
          "traceback": [
            "\u001b[0;31m---------------------------------------------------------------------------\u001b[0m",
            "\u001b[0;31mZeroDivisionError\u001b[0m                         Traceback (most recent call last)",
            "\u001b[0;32m<ipython-input-65-5eb017879ab5>\u001b[0m in \u001b[0;36m<cell line: 0>\u001b[0;34m()\u001b[0m\n\u001b[1;32m      1\u001b[0m \u001b[0;32mfor\u001b[0m \u001b[0mi\u001b[0m \u001b[0;32min\u001b[0m \u001b[0mrange\u001b[0m\u001b[0;34m(\u001b[0m\u001b[0;34m-\u001b[0m\u001b[0;36m5\u001b[0m\u001b[0;34m,\u001b[0m\u001b[0;36m6\u001b[0m\u001b[0;34m)\u001b[0m\u001b[0;34m:\u001b[0m\u001b[0;34m\u001b[0m\u001b[0;34m\u001b[0m\u001b[0m\n\u001b[0;32m----> 2\u001b[0;31m         \u001b[0mprint\u001b[0m \u001b[0;34m(\u001b[0m\u001b[0;34m\"100/\"\u001b[0m\u001b[0;34m,\u001b[0m\u001b[0mi\u001b[0m\u001b[0;34m,\u001b[0m\u001b[0;34m\" --> \"\u001b[0m\u001b[0;34m,\u001b[0m \u001b[0;36m100\u001b[0m\u001b[0;34m/\u001b[0m\u001b[0mi\u001b[0m\u001b[0;34m)\u001b[0m\u001b[0;34m\u001b[0m\u001b[0;34m\u001b[0m\u001b[0m\n\u001b[0m",
            "\u001b[0;31mZeroDivisionError\u001b[0m: division by zero"
          ]
        }
      ]
    },
    {
      "cell_type": "markdown",
      "metadata": {
        "id": "ulPZfl8rJo9l"
      },
      "source": [
        "---\n",
        "### **10.2 Exception handaling for division by zero**\n",
        "---"
      ]
    },
    {
      "cell_type": "code",
      "metadata": {
        "id": "GY4t0EqjJo9m",
        "colab": {
          "base_uri": "https://localhost:8080/"
        },
        "outputId": "0c1c9089-72bf-468c-f4e6-9f8eeb88a963"
      },
      "source": [
        "for i in range(-5,6):\n",
        "\ttry:\n",
        "\t\tprint (\"100/\",i,\" --> \", 100/i)\n",
        "\texcept:\n",
        "\t\tprint (\"error\")"
      ],
      "execution_count": null,
      "outputs": [
        {
          "output_type": "stream",
          "name": "stdout",
          "text": [
            "100/ -5  -->  -20.0\n",
            "100/ -4  -->  -25.0\n",
            "100/ -3  -->  -33.333333333333336\n",
            "100/ -2  -->  -50.0\n",
            "100/ -1  -->  -100.0\n",
            "error\n",
            "100/ 1  -->  100.0\n",
            "100/ 2  -->  50.0\n",
            "100/ 3  -->  33.333333333333336\n",
            "100/ 4  -->  25.0\n",
            "100/ 5  -->  20.0\n"
          ]
        }
      ]
    },
    {
      "cell_type": "markdown",
      "metadata": {
        "id": "g1cY_zT3Jo9m"
      },
      "source": [
        "---\n",
        "### **10.3 Exception handaling for array out of index**\n",
        "---"
      ]
    },
    {
      "cell_type": "code",
      "metadata": {
        "id": "m1rBOUB3Jo9n",
        "colab": {
          "base_uri": "https://localhost:8080/"
        },
        "outputId": "48322bcc-e51a-42f0-afd0-f69a8837099e"
      },
      "source": [
        "L=[1,2,3,4,5]\n",
        "\n",
        "for i in range(8):\n",
        "\ttry:\n",
        "\t\tprint (i,\" --> \",L[i])\n",
        "\texcept:\n",
        "\t\tprint (\"error\")"
      ],
      "execution_count": null,
      "outputs": [
        {
          "output_type": "stream",
          "name": "stdout",
          "text": [
            "0  -->  1\n",
            "1  -->  2\n",
            "2  -->  3\n",
            "3  -->  4\n",
            "4  -->  5\n",
            "error\n",
            "error\n",
            "error\n"
          ]
        }
      ]
    },
    {
      "cell_type": "markdown",
      "metadata": {
        "id": "kH8CATzbJo9o"
      },
      "source": [
        "---\n",
        "### **10.4 Exception handaling for file not found**\n",
        "---"
      ]
    },
    {
      "cell_type": "code",
      "metadata": {
        "id": "zZ7ns4K3Jo9o",
        "colab": {
          "base_uri": "https://localhost:8080/",
          "height": 211
        },
        "outputId": "985439b5-78e7-4bc2-89b0-babcd9d8c323"
      },
      "source": [
        "fileName=input(\"Enter File Name: \")\n",
        "fp=open(fileName)\t# Open the file in reading mode\n",
        "fp.close()\n",
        "print (\"Done\")"
      ],
      "execution_count": null,
      "outputs": [
        {
          "name": "stdout",
          "output_type": "stream",
          "text": [
            "Enter File Name: Cosmic\n"
          ]
        },
        {
          "output_type": "error",
          "ename": "FileNotFoundError",
          "evalue": "[Errno 2] No such file or directory: 'Cosmic'",
          "traceback": [
            "\u001b[0;31m---------------------------------------------------------------------------\u001b[0m",
            "\u001b[0;31mFileNotFoundError\u001b[0m                         Traceback (most recent call last)",
            "\u001b[0;32m<ipython-input-71-df3155df6860>\u001b[0m in \u001b[0;36m<cell line: 0>\u001b[0;34m()\u001b[0m\n\u001b[1;32m      1\u001b[0m \u001b[0mfileName\u001b[0m\u001b[0;34m=\u001b[0m\u001b[0minput\u001b[0m\u001b[0;34m(\u001b[0m\u001b[0;34m\"Enter File Name: \"\u001b[0m\u001b[0;34m)\u001b[0m\u001b[0;34m\u001b[0m\u001b[0;34m\u001b[0m\u001b[0m\n\u001b[0;32m----> 2\u001b[0;31m \u001b[0mfp\u001b[0m\u001b[0;34m=\u001b[0m\u001b[0mopen\u001b[0m\u001b[0;34m(\u001b[0m\u001b[0mfileName\u001b[0m\u001b[0;34m)\u001b[0m       \u001b[0;31m# Open the file in reading mode\u001b[0m\u001b[0;34m\u001b[0m\u001b[0;34m\u001b[0m\u001b[0m\n\u001b[0m\u001b[1;32m      3\u001b[0m \u001b[0mfp\u001b[0m\u001b[0;34m.\u001b[0m\u001b[0mclose\u001b[0m\u001b[0;34m(\u001b[0m\u001b[0;34m)\u001b[0m\u001b[0;34m\u001b[0m\u001b[0;34m\u001b[0m\u001b[0m\n\u001b[1;32m      4\u001b[0m \u001b[0mprint\u001b[0m \u001b[0;34m(\u001b[0m\u001b[0;34m\"Done\"\u001b[0m\u001b[0;34m)\u001b[0m\u001b[0;34m\u001b[0m\u001b[0;34m\u001b[0m\u001b[0m\n",
            "\u001b[0;31mFileNotFoundError\u001b[0m: [Errno 2] No such file or directory: 'Cosmic'"
          ]
        }
      ]
    },
    {
      "cell_type": "code",
      "source": [
        "try:\n",
        "  a= int (input(\"Enter a Number: \"))\n",
        "  b= int (input(\"Enter second Number: \"))\n",
        "  c= a + b\n",
        "  print(\"Sum is \", t)\n",
        "except :\n",
        "  print(\"Error, One of the number is not int\")"
      ],
      "metadata": {
        "colab": {
          "base_uri": "https://localhost:8080/"
        },
        "id": "AehWJB8giLI_",
        "outputId": "f880445f-ef1d-4a72-c8b3-9b1e4ed9ef8e"
      },
      "execution_count": null,
      "outputs": [
        {
          "output_type": "stream",
          "name": "stdout",
          "text": [
            "Enter a Number: 9\n",
            "Enter second Number: 5\n",
            "Eerror, One of the number is not int\n"
          ]
        }
      ]
    },
    {
      "cell_type": "markdown",
      "metadata": {
        "id": "D4bffbZQJo9p"
      },
      "source": [
        "---\n",
        "### **10.5 Exception handling for file not found**\n",
        "---"
      ]
    },
    {
      "cell_type": "code",
      "metadata": {
        "id": "dt3X92CyJo9q",
        "colab": {
          "base_uri": "https://localhost:8080/"
        },
        "outputId": "a65a23ee-f45d-477d-e8b9-b43c161aed88"
      },
      "source": [
        "fileName=input(\"Enter File Name: \")\n",
        "\tfp=open(fileName)\t# Open the file in reading mode\n",
        "\tfp.close()\n",
        "except:\n",
        "\tprint (\"Error !! \\\"%s\\\" File Not Found\"%(fileName))\n",
        "\n",
        "print (\"Done\")"
      ],
      "execution_count": null,
      "outputs": [
        {
          "output_type": "stream",
          "name": "stdout",
          "text": [
            "Enter File Name: Cosmic\n",
            "Error !! \"Cosmic\" File Not Found\n",
            "Done\n"
          ]
        }
      ]
    },
    {
      "cell_type": "markdown",
      "metadata": {
        "id": "F5w6mKSaPcaj"
      },
      "source": [
        "---\n",
        "# **11 Data Structure 1 - List**\n",
        "**Learning:** How to use list, add, delete and search in the list.\n",
        "\n",
        "**Note:** Read more about list and try yourself\n",
        "\n",
        "---\n",
        "### **11.1 List Declaration**\n"
      ]
    },
    {
      "cell_type": "code",
      "metadata": {
        "id": "nYnqBFRzPcas"
      },
      "source": [
        "L = [\"Pratham\",  'Sharma', 3.14,  3 ]\n",
        "print (\"Original List: \", L)\n",
        "print (\"Number of elements in list: \", len(L))"
      ],
      "execution_count": null,
      "outputs": []
    },
    {
      "cell_type": "markdown",
      "metadata": {
        "id": "xyP5tZ7IPcat"
      },
      "source": [
        "---\n",
        "### **11.2 List Iteration**\n",
        "---"
      ]
    },
    {
      "cell_type": "code",
      "metadata": {
        "id": "TIalxne5Pcat",
        "outputId": "29a71024-9cd2-41fa-bcf8-95b6fad204f2",
        "colab": {
          "base_uri": "https://localhost:8080/"
        }
      },
      "source": [
        "L = [\"Pratham\",  'Sharma', 3.14,  3 ]\n",
        "print (\"Original List: \", L)\n",
        "i=0\n",
        "while i < len(L):\n",
        "\tprint (L[i])\n",
        "\ti+=1"
      ],
      "execution_count": null,
      "outputs": [
        {
          "output_type": "stream",
          "name": "stdout",
          "text": [
            "Original List:  ['Pratham', 'Sharma', 3.14, 3]\n",
            "Pratham\n",
            "Sharma\n",
            "3.14\n",
            "3\n"
          ]
        }
      ]
    },
    {
      "cell_type": "markdown",
      "metadata": {
        "id": "fpkfQhktPcau"
      },
      "source": [
        "---\n",
        "### **11.3 List Iteration using for loop**\n",
        "---"
      ]
    },
    {
      "cell_type": "code",
      "metadata": {
        "id": "p6mVPS1pPcau",
        "outputId": "7416bad1-e507-4def-9895-73d242fcf460",
        "colab": {
          "base_uri": "https://localhost:8080/"
        }
      },
      "source": [
        "L = [\"Pratham\",  'Sharma', 3.14,  3 ]\n",
        "print (\"Original List: \", L)\n",
        "for i in range(0, len(L)):\n",
        "\tprint (L[i])"
      ],
      "execution_count": null,
      "outputs": [
        {
          "output_type": "stream",
          "name": "stdout",
          "text": [
            "Original List:  ['Pratham', 'Sharma', 3.14, 3]\n",
            "Pratham\n",
            "Sharma\n",
            "3.14\n",
            "3\n"
          ]
        }
      ]
    },
    {
      "cell_type": "markdown",
      "metadata": {
        "id": "CouKDMO1Pcav"
      },
      "source": [
        "---\n",
        "### **11.4 List Iteration using for loop**\n",
        "---"
      ]
    },
    {
      "cell_type": "code",
      "metadata": {
        "id": "yT0MDFBJPcaw"
      },
      "source": [
        "L = [\"Pratham\",  'Sharma', 3.14,  3 ]\n",
        "print (\"Original List --> \", L)\n",
        "for s in L:\n",
        "\tprint (s)"
      ],
      "execution_count": null,
      "outputs": []
    },
    {
      "cell_type": "markdown",
      "metadata": {
        "id": "XeroS2dsPcay"
      },
      "source": [
        "---\n",
        "### **11.5 Adding and deleting from list**\n",
        "---"
      ]
    },
    {
      "cell_type": "code",
      "metadata": {
        "id": "rWUOXQitPcay"
      },
      "source": [
        "L = [\"Pratham\",  'Sharma', 3.14,  3 ]\n",
        "print (\"Original List       --> \", L)\n",
        "\n",
        "L.append(\"Rahul\")\n",
        "print (\"List After Adding   --> \", L)\n",
        "\n",
        "del L[1]\n",
        "print (\"List After Deleting --> \", L)"
      ],
      "execution_count": null,
      "outputs": []
    },
    {
      "cell_type": "markdown",
      "metadata": {
        "id": "_DxAr9ZfPcaz"
      },
      "source": [
        "---\n",
        "### **11.6 Sum/Average of List**\n",
        "---"
      ]
    },
    {
      "cell_type": "code",
      "metadata": {
        "id": "taKMcEajPca1"
      },
      "source": [
        "L=[3, 6, 9, 12, 5, 3, 2]\n",
        "print (\"Original List --> \", L)\n",
        "\n",
        "print (\"Sum     --> \", sum(L))\n",
        "print (\"Average --> \", sum(L)/len(L))\n",
        "print (\"Average --> \", sum(L)//len(L))\n",
        "\n",
        "print (\"L * 3   --> \", L * 3)     # Every element get tripled\n",
        "print (\"L + L   --> \", L + L)     # Every element get doubled"
      ],
      "execution_count": null,
      "outputs": []
    },
    {
      "cell_type": "markdown",
      "metadata": {
        "id": "2SIEcqKePca1"
      },
      "source": [
        "---\n",
        "### **11.7 Min/Max/Sort the list**\n",
        "---"
      ]
    },
    {
      "cell_type": "code",
      "metadata": {
        "id": "NUsOwblSPca1"
      },
      "source": [
        "L=[3, 6, 9, 12, 5, 3, 2]\n",
        "print (\"Original List --> \", L)\n",
        "\n",
        "print (\"max --> \", max(L))\n",
        "print (\"min --> \", min(L))\n",
        "\n",
        "print (\"\\nBefore Sort            --> \", L)\n",
        "L.sort()\n",
        "\n",
        "print (\"After Sort (Asending)  --> \", L)\n",
        "\n",
        "L.sort(reverse=True)\n",
        "print (\"After Sort (Desending) --> \", L)"
      ],
      "execution_count": null,
      "outputs": []
    },
    {
      "cell_type": "markdown",
      "metadata": {
        "id": "pX_P07ODQoQM"
      },
      "source": [
        "---\n",
        "### **11.8 Merge lists and select elements**\n",
        "---"
      ]
    },
    {
      "cell_type": "code",
      "metadata": {
        "id": "pf8csu4yQoQO"
      },
      "source": [
        "L1 = [3, 6, 9]\n",
        "L2 = [12, 5, 3, 2]\n",
        "L3 = L1 + L2\n",
        "print (\"L1 --> \",L1)\n",
        "print (\"L2 --> \",L2)\n",
        "print (\"L3 --> \",L3)\n",
        "\n",
        "print (\"\\nL3[2:]  --> \",L3[2:])\n",
        "print (\"L3[2:5] --> \",L3[2:5])\n",
        "print (\"L3[:-1] --> \",L3[:-1])\n",
        "print (\"L3[::2] --> \",L3[::2])"
      ],
      "execution_count": null,
      "outputs": []
    },
    {
      "cell_type": "markdown",
      "metadata": {
        "id": "2fxU9VLhQpGB"
      },
      "source": [
        "---\n",
        "### **11.9 Multiply all elements of the list by a constant**\n",
        "---"
      ]
    },
    {
      "cell_type": "code",
      "metadata": {
        "id": "Karxlcp6QpGC"
      },
      "source": [
        "L = [12, 5, 3, 2, 7]\n",
        "print (\"Original List --> \", L)\n",
        "\n",
        "newL = [ i * 5 for i in L ]\n",
        "print (\"After Multiply with constant --> \", newL)"
      ],
      "execution_count": null,
      "outputs": []
    },
    {
      "cell_type": "markdown",
      "metadata": {
        "id": "S9_QezrcQpQ9"
      },
      "source": [
        "---\n",
        "### **11.10 Searching in the list**\n",
        "---"
      ]
    },
    {
      "cell_type": "code",
      "metadata": {
        "id": "ZptMehxhQpQ9"
      },
      "source": [
        "L=[3, 6, 9, 12, 5, 3, 2]\n",
        "print (\"Original List --> \", 6 in L)\n",
        "print (\"Original List --> \", 10 in L)\n",
        "print (\"Original List --> \", 12 in L)\n",
        "\n",
        "if (6 in L) == True:\n",
        "\tprint (\"Present\")\n",
        "else:\n",
        "\tprint (\"Not Present\")\n",
        "\n",
        "if 10 in L == False:\n",
        "\tprint (\"Not Present\")\n",
        "else:\n",
        "\tprint (\"Present\")"
      ],
      "execution_count": null,
      "outputs": []
    },
    {
      "cell_type": "markdown",
      "metadata": {
        "id": "zHAa4y1BScFQ"
      },
      "source": [
        "---\n",
        "# **12 Data Structure 2 - Dictionary**\n",
        "**Learning:** How to use Dictionary, add, delete, search in Dictionary\n",
        "\n",
        "**Note:** Read more about Dictionary and try yourself\n",
        "\n",
        "---\n",
        "### **12.1 Declare Dictionary**"
      ]
    },
    {
      "cell_type": "code",
      "metadata": {
        "id": "T7Q4GKPaScFS"
      },
      "source": [
        "CGPA={1:8.9, 2:5.6, 4:6.7, 7:9.1, 8:5.3}\n",
        "print (\"Dictionary      --> \", CGPA)\n",
        "print (\"Num of elements --> \", len(CGPA))\n",
        "\n",
        "print (\"CGPA of 1       --> \", CGPA[1])\n",
        "print (\"CGPA of 4       --> \", CGPA[4])\n",
        "print (\"CGPA of 7       --> \", CGPA[7])\n",
        "print (\"CGPA of 3       --> \", CGPA[3])"
      ],
      "execution_count": null,
      "outputs": []
    },
    {
      "cell_type": "markdown",
      "metadata": {
        "id": "BxbeipLlScFS"
      },
      "source": [
        "---\n",
        "### **12.2 Triverse dictionary**\n",
        "---"
      ]
    },
    {
      "cell_type": "code",
      "metadata": {
        "id": "iWXBcVNTScFT"
      },
      "source": [
        "CGPA={1:8.9, 2:5.6, 4:6.7, 7:9.1, 8:5.3}\n",
        "for k in CGPA:\n",
        "\tprint (\"CGPA of \", k, \" --> \", CGPA[k])"
      ],
      "execution_count": null,
      "outputs": []
    },
    {
      "cell_type": "markdown",
      "metadata": {
        "id": "O721iFiOScFT"
      },
      "source": [
        "---\n",
        "### **12.3 Getting Keys and Values**\n",
        "---"
      ]
    },
    {
      "cell_type": "code",
      "metadata": {
        "id": "dnPH-GCyScFU"
      },
      "source": [
        "CGPA={1:8.9, 2:5.6, 4:6.7, 7:9.1, 8:5.3}\n",
        "print (\"Dictionary --> \", CGPA)\n",
        "print (\"Keys       --> \", list(CGPA.keys()))\n",
        "print (\"Values     --> \", list(CGPA.values()))"
      ],
      "execution_count": null,
      "outputs": []
    },
    {
      "cell_type": "markdown",
      "metadata": {
        "id": "v2ooUfguScFV"
      },
      "source": [
        "---\n",
        "### **12.4 Updating, Adding and Deleting from Dictionary**\n",
        "---"
      ]
    },
    {
      "cell_type": "code",
      "metadata": {
        "id": "zO_QA0GNScFV"
      },
      "source": [
        "CGPA={1:8.9,2:5.6,4:6.7,7:9.1,8:5.3}\n",
        "print (\"Original Dictionary --> \", CGPA)\n",
        "\n",
        "CGPA[4] = 9.2\n",
        "print (\"After Updating (4)  --> \", CGPA)\n",
        "\n",
        "CGPA[3] = 8.6\n",
        "print (\"After Adding (3)    --> \", CGPA)\n",
        "\n",
        "del CGPA[1]\n",
        "print (\"After Deleting (1)  --> \", CGPA)\n",
        "\n",
        "CGPA.clear()\n",
        "print (\"After Clear         --> \", CGPA)\n",
        "\n",
        "del CGPA\n",
        "print (\"After Delete        --> \", CGPA)"
      ],
      "execution_count": null,
      "outputs": []
    },
    {
      "cell_type": "markdown",
      "metadata": {
        "id": "8SPV0FVyScFW"
      },
      "source": [
        "---\n",
        "### **12.5 Checking for Key in Dictionary**\n",
        "---"
      ]
    },
    {
      "cell_type": "code",
      "metadata": {
        "id": "Bwt-yAtpScFW"
      },
      "source": [
        "CGPA={1:8.9, 2:5.6, 4:6.7, 7:9.1, 8:5.3}\n",
        "print (\"Original Dictionary --> \", CGPA)\n",
        "print (\"Is Key 2 Present    --> \", 2 in CGPA)\n",
        "print (\"Is Key 9 Present    --> \", 9 in CGPA)"
      ],
      "execution_count": null,
      "outputs": []
    },
    {
      "cell_type": "markdown",
      "metadata": {
        "id": "_KifQnHnScFX"
      },
      "source": [
        "---\n",
        "### **12.6 More example1**\n",
        "---"
      ]
    },
    {
      "cell_type": "code",
      "metadata": {
        "id": "tM4fQro9ScFZ"
      },
      "source": [
        "HomeTown={\"Prashant\":\"Delhi\", \"Govind\":\"Gwalior\", \"Anil\":\"Morena\", \"Pankaj\":\"Agra\"}\n",
        "print (\"Original Dictionary --> \", HomeTown)\n",
        "print (\"Home Town of Prashant is --> \", HomeTown[\"Prashant\"])\n",
        "print (\"Home Town of Govind is   --> \", HomeTown[\"Govind\"])\n",
        "print (\"Home Town of Anil is     --> \", HomeTown[\"Anil\"])\n",
        "print (\"Home Town of Pankaj is   --> \", HomeTown[\"Pankaj\"])\n"
      ],
      "execution_count": null,
      "outputs": []
    },
    {
      "cell_type": "markdown",
      "metadata": {
        "id": "ZQIFxo4GScFa"
      },
      "source": [
        "---\n",
        "### **12.7 More example2**\n",
        "---"
      ]
    },
    {
      "cell_type": "code",
      "metadata": {
        "id": "hOADMSpvScFa"
      },
      "source": [
        "HomeTown={\"Prashant\":\"Delhi\", \"Govind\":\"Gwalior\", \"Anil\":\"Morena\", \"Pankaj\":\"Agra\"}\n",
        "print (\"Original Dictionary --> \", HomeTown)\n",
        "\n",
        "for d in HomeTown:\n",
        "\tprint (\"Home Town of \", d, \" is  --> \", HomeTown[d])"
      ],
      "execution_count": null,
      "outputs": []
    },
    {
      "cell_type": "markdown",
      "metadata": {
        "id": "Hom72Xe6Z1sJ"
      },
      "source": [
        "---\n",
        "# **13 Data Structure 3 - Tuple**\n",
        "\n",
        "**Learning:** How to use Tuple, add, delete, search in Tuple\n",
        "\n",
        "**Note:** Read more about Tuple and try yourself\n",
        "\n",
        "---\n",
        "### **13.1 Declare Tuple**"
      ]
    },
    {
      "cell_type": "code",
      "metadata": {
        "id": "au4DzzGyFysT"
      },
      "source": [
        "# Method 1\n",
        "T = (\"Pratham\", 'Sharma', 3.14, 3)\n",
        "\n",
        "print (\"T               -->\", T)\n",
        "print (\"Num of elements -->\", len(T))\n",
        "print (\"Type of Object  -->\", type(T))"
      ],
      "execution_count": null,
      "outputs": []
    },
    {
      "cell_type": "code",
      "metadata": {
        "id": "6w09RiHeF-Io"
      },
      "source": [
        "# Method 2\n",
        "T = tuple([\"Pratham\", 'Sharma', 3.14, 3])   # Convert list to tuple\n",
        "#T = tuple((\"Pratham\", 'Sharma', 3.14, 3))  # Also Works\n",
        "\n",
        "print (\"T               -->\", T)\n",
        "print (\"Num of elements -->\", len(T))\n",
        "print (\"Type of Object  -->\", type(T))"
      ],
      "execution_count": null,
      "outputs": []
    },
    {
      "cell_type": "markdown",
      "metadata": {
        "id": "sC3XhTJtFysW"
      },
      "source": [
        "---\n",
        "### **13.2 Tuple Iteration**\n",
        "---"
      ]
    },
    {
      "cell_type": "code",
      "metadata": {
        "id": "pama9SlbFysX"
      },
      "source": [
        "T = (\"Pratham\", 'Sharma', 3.14, 3)\n",
        "print (\"T -->\", T)\n",
        "\n",
        "i = 0\n",
        "while i < len(T):\n",
        "    print (T[i])\n",
        "    i += 1"
      ],
      "execution_count": null,
      "outputs": []
    },
    {
      "cell_type": "markdown",
      "metadata": {
        "id": "Xk0P6u4BFysY"
      },
      "source": [
        "---\n",
        "### **13.3 Tuple iteration using for loop**\n",
        "---"
      ]
    },
    {
      "cell_type": "code",
      "metadata": {
        "id": "N73bUXRDFysZ"
      },
      "source": [
        "T = (\"Pratham\", 'Sharma', 3.14, 3)\n",
        "print (\"T -->\", T)\n",
        "\n",
        "for i in range(0, len(T)):\n",
        "    print (T[i])"
      ],
      "execution_count": null,
      "outputs": []
    },
    {
      "cell_type": "markdown",
      "metadata": {
        "id": "kGZWqnebFysa"
      },
      "source": [
        "---\n",
        "### **13.4 Tuple iteration using for loop**\n",
        "---"
      ]
    },
    {
      "cell_type": "code",
      "metadata": {
        "id": "Y6L2BeBcFysb"
      },
      "source": [
        "T = (\"Pratham\", 'Sharma', 3.14, 3)\n",
        "print (\"T -->\", T)\n",
        "\n",
        "for s in T:\n",
        "    print (s)"
      ],
      "execution_count": null,
      "outputs": []
    },
    {
      "cell_type": "markdown",
      "metadata": {
        "id": "TsjuXQqfFysc"
      },
      "source": [
        "---\n",
        "### **13.5 Accessing/Selecting in Tuple**\n",
        "---"
      ]
    },
    {
      "cell_type": "code",
      "metadata": {
        "id": "FgB4s6OtFysc"
      },
      "source": [
        "# Example 1:\n",
        "T = (3, 6, 9, 12, 5, 3, 2)\n",
        "print (\"T     -->\", T)\n",
        "\n",
        "print (\"T[1]  -->\", T[1])\n",
        "print (\"T[2]  -->\", T[2])\n",
        "print (\"T[-1] -->\", T[-1])\n",
        "print (\"T[-2] -->\", T[-2])"
      ],
      "execution_count": null,
      "outputs": []
    },
    {
      "cell_type": "code",
      "metadata": {
        "id": "ex2S0y2tGzSH"
      },
      "source": [
        "# Example 2:\n",
        "T = (3, 6, 9, 12, 5, 3, 2)\n",
        "print (\"T        -->\", T)\n",
        "\n",
        "print (\"T[1:3]   -->\", T[1:3])\n",
        "print (\"T[2:]    -->\", T[2:])\n",
        "print (\"T[2:5]   -->\", T[2:5])\n",
        "print (\"T[:2]    -->\", T[:2])\n",
        "print (\"T[:-1]   -->\", T[:-1])\n",
        "print (\"T[-4:-1] -->\", T[-4:-1])"
      ],
      "execution_count": null,
      "outputs": []
    },
    {
      "cell_type": "markdown",
      "metadata": {
        "id": "IYCHgXGZFyse"
      },
      "source": [
        "---\n",
        "### **13.6 Sum/Average of Tuple**\n",
        "---"
      ]
    },
    {
      "cell_type": "code",
      "metadata": {
        "id": "1sSPfUTGFysf"
      },
      "source": [
        "T = (3, 6, 9, 12, 5, 3, 2)\n",
        "print (\"T       -->\", T)\n",
        "print (\"Sum     -->\", sum(T))\n",
        "print (\"Average -->\", sum(T)/len(T))\n",
        "print (\"Average -->\", sum(T)//len(T))"
      ],
      "execution_count": null,
      "outputs": []
    },
    {
      "cell_type": "markdown",
      "metadata": {
        "id": "E_Je9dVxFysg"
      },
      "source": [
        "---\n",
        "### **13.7 Min/Max in Tuple**\n",
        "---"
      ]
    },
    {
      "cell_type": "code",
      "metadata": {
        "id": "tNsc-7xEFysi"
      },
      "source": [
        "# Example 1\n",
        "T = (3, 6, 9, 12, 5, 3, 2)                # Integer Tuple\n",
        "print (\"T   -->\", T)\n",
        "print (\"Max -->\", max(T))\n",
        "print (\"Min -->\", min(T))"
      ],
      "execution_count": null,
      "outputs": []
    },
    {
      "cell_type": "code",
      "metadata": {
        "id": "mwCtFSUDHL50"
      },
      "source": [
        "# Example 2\n",
        "T = (\"Ram\", \"Shyam\", \"Human\", \"Ant\")      # String Tuple\n",
        "print (\"T   -->\", T)\n",
        "print (\"Max -->\", max(T))\n",
        "print (\"Min -->\", min(T))"
      ],
      "execution_count": null,
      "outputs": []
    },
    {
      "cell_type": "markdown",
      "metadata": {
        "id": "WUNgIs62Fysi"
      },
      "source": [
        "---\n",
        "### **13.8 Merging Tuples**\n",
        "---"
      ]
    },
    {
      "cell_type": "code",
      "metadata": {
        "id": "zqz9Xp0tFysj"
      },
      "source": [
        "T1 = (3, 6, 9)\n",
        "T2 = (12, 5, 3, 2)\n",
        "\n",
        "print (\"T1 -->\", T1)\n",
        "print (\"T2 -->\", T2)\n",
        "\n",
        "T3 = T1 + T2\n",
        "print (\"T3 -->\", T3)\n",
        "\n",
        "T4 = T1 + T2 + T1 + T2\n",
        "print (\"T4 -->\", T4)"
      ],
      "execution_count": null,
      "outputs": []
    },
    {
      "cell_type": "markdown",
      "metadata": {
        "id": "K2lF7bjeFysj"
      },
      "source": [
        "---\n",
        "### **13.9 Merging part of Tuples**\n",
        "---"
      ]
    },
    {
      "cell_type": "code",
      "metadata": {
        "id": "1ChXppaZFysk"
      },
      "source": [
        "T1 = (3, 6, 9)\n",
        "T2 = (12, 5, 3, 2)\n",
        "\n",
        "print (\"T1 -->\", T1)\n",
        "print (\"T2 -->\", T2)\n",
        "\n",
        "T3 = T1[1:2] + T2[1:3]\n",
        "print (\"T3 -->\", T3)\n",
        "\n",
        "T4 = T1[:-2] + T2[:-3]\n",
        "print (\"T4 -->\", T4)"
      ],
      "execution_count": null,
      "outputs": []
    },
    {
      "cell_type": "markdown",
      "metadata": {
        "id": "3frpbJ4RFysl"
      },
      "source": [
        "---\n",
        "### **13.10 Searching in the tuple**\n",
        "---"
      ]
    },
    {
      "cell_type": "code",
      "metadata": {
        "id": "cY6y818WFysl"
      },
      "source": [
        "T = (3, 6, 9, 12, 5, 3, 2)\n",
        "print (\"T       -->\", T)\n",
        "\n",
        "print (\"6  in T -->\", 6 in T)\n",
        "print (\"10 in T -->\", 10 in T)\n",
        "print (\"12 in T -->\", 12 in T)"
      ],
      "execution_count": null,
      "outputs": []
    },
    {
      "cell_type": "markdown",
      "metadata": {
        "id": "vJg6l4N_E4IG"
      },
      "source": [
        "---\n",
        "### **13.11 Adding element to Tuple (Error)**\n",
        "---"
      ]
    },
    {
      "cell_type": "code",
      "metadata": {
        "id": "RM0E_sSoE4IH"
      },
      "source": [
        "T = (\"Pratham\", 'Sharma', 3.14, 3)\n",
        "print (\"T -->\", T)\n",
        "\n",
        "T[2] = 900               # Error; 'tuple' object does not support item assignment\n",
        "print (\"T -->\", T)\n",
        "\n",
        "#Tuples are unchangeable. We cannot add items to it."
      ],
      "execution_count": null,
      "outputs": []
    },
    {
      "cell_type": "markdown",
      "metadata": {
        "id": "KocwDH8QE4IH"
      },
      "source": [
        "---\n",
        "### **13.12 Adding element to Tuple - (Jugaad)**\n",
        "---"
      ]
    },
    {
      "cell_type": "code",
      "metadata": {
        "id": "TWSdjWFfE4II"
      },
      "source": [
        "T = (\"Pratham\", 'Sharma', 3.14, 3)\n",
        "print (\"T         -->\", T)\n",
        "\n",
        "T1 = list(T)\n",
        "T1.append(9.8)\n",
        "T = tuple(T1)\n",
        "\n",
        "print (\"After Add -->\", T)"
      ],
      "execution_count": null,
      "outputs": []
    },
    {
      "cell_type": "markdown",
      "metadata": {
        "id": "D8fE_Al0E4II"
      },
      "source": [
        "---\n",
        "### **13.13 Inserting element in Tuple - (Jugaad)**\n",
        "---"
      ]
    },
    {
      "cell_type": "code",
      "metadata": {
        "id": "bkvZ4s4yE4IJ"
      },
      "source": [
        "T = (\"Pratham\", 'Sharma', 3.14, 3)\n",
        "print (\"T            -->\", T)\n",
        "\n",
        "T1 = list(T)\n",
        "T1.insert(2, \"Rahul\")\n",
        "T = tuple(T1)\n",
        "\n",
        "print (\"After Insert -->\", T)"
      ],
      "execution_count": null,
      "outputs": []
    },
    {
      "cell_type": "markdown",
      "metadata": {
        "id": "UvpIX1nsE4IK"
      },
      "source": [
        "---\n",
        "### **13.14 Deleting from Tuple (Error)**\n",
        "---"
      ]
    },
    {
      "cell_type": "code",
      "metadata": {
        "id": "mex45HHQE4IL"
      },
      "source": [
        "T = (\"Pratham\", 'Sharma', 3.14, 3)\n",
        "print (\"T            -->\", T)\n",
        "\n",
        "del T[1]\n",
        "\n",
        "print (\"After Delete -->\", T)"
      ],
      "execution_count": null,
      "outputs": []
    },
    {
      "cell_type": "markdown",
      "metadata": {
        "id": "mUlLkF7xK4ta"
      },
      "source": [
        "---\n",
        "### **13.15 Deleting from Tuple - (Jugaad)**\n",
        "---"
      ]
    },
    {
      "cell_type": "code",
      "metadata": {
        "id": "Ey7gyq_JK4tc"
      },
      "source": [
        "T = (\"Pratham\", 'Sharma', 3.14, 3)\n",
        "print (\"T            -->\", T)\n",
        "\n",
        "T1 = list(T)\n",
        "del T1[1]\n",
        "T = tuple(T1)\n",
        "\n",
        "print (\"After Delete -->\", T)"
      ],
      "execution_count": null,
      "outputs": []
    },
    {
      "cell_type": "markdown",
      "metadata": {
        "id": "nP1BXJvpaSMR"
      },
      "source": [
        "---\n",
        "# **14 Data Structure 4 - Set**\n",
        "\n",
        "**Learning:** How to use Set, add, delete, search in Set\n",
        "\n",
        "**Note:** Read more about Set and try yourself\n",
        "\n",
        "---\n",
        "### **14.1 Declare Set**"
      ]
    },
    {
      "cell_type": "code",
      "metadata": {
        "id": "q7k_3HyiaWwa"
      },
      "source": [
        "s = set(['A', 'B', 'E', 'F','E', 'F' ])\n",
        "print (\"Original set           --> \", s)\n",
        "print (\"Num of elements in set --> \", len(s))"
      ],
      "execution_count": null,
      "outputs": []
    },
    {
      "cell_type": "markdown",
      "metadata": {
        "id": "ltLfKXfKardd"
      },
      "source": [
        "---\n",
        "### **14.2 Opertions on Sets**\n",
        "---"
      ]
    },
    {
      "cell_type": "code",
      "metadata": {
        "id": "s8KiiSKSardf"
      },
      "source": [
        "a = set(['A', 'B', 'E', 'F' ])\n",
        "b = set([\"A\", \"C\", \"D\", \"E\"])\n",
        "print (\"Original set a      --> \", a)\n",
        "print (\"Original set b      --> \", b)\n",
        "print (\"Union of a and b    --> \", a.union(b))\n",
        "print (\"Intersection of a,b --> \", a.intersection(b))\n",
        "print (\"Difference a - b    --> \", a - b)\n",
        "print (\"Difference a - b    --> \", a.difference(b))\n",
        "print (\"Difference b - a    --> \", b - a)\n",
        "print (\"Difference b - a    --> \", b.difference(a))\n",
        "print (\"Symetric Diff a - b --> \", a.symmetric_difference(b))\n",
        "print (\"Symetric Diff b - a --> \", b.symmetric_difference(a))"
      ],
      "execution_count": null,
      "outputs": []
    },
    {
      "cell_type": "markdown",
      "metadata": {
        "id": "oGG-LZJhars5"
      },
      "source": [
        "---\n",
        "### **14.3 Add, delete, pop element from set**\n",
        "---"
      ]
    },
    {
      "cell_type": "code",
      "metadata": {
        "id": "6MfSdtaUars6"
      },
      "source": [
        "a = set(['A', 'B', 'E', 'F' ])\n",
        "print (\"Original set a       --> \", a)\n",
        "a.add(\"D\")\n",
        "print (\"Set After Adding (D) --> \", a)\n",
        "a.add(\"D\")\n",
        "print (\"Set After Adding (D) --> \", a)\n",
        "a.remove(\"D\")\n",
        "print (\"Set After Deleting(D)--> \", a)\n",
        "a.pop()\n",
        "print (\"Set After pop        --> \", a)\n",
        "a.pop()\n",
        "print (\"Set After pop        --> \", a)"
      ],
      "execution_count": null,
      "outputs": []
    },
    {
      "cell_type": "markdown",
      "metadata": {
        "id": "spvefWIWbNAR"
      },
      "source": [
        "---\n",
        "# **15 Command Line Argument**\n",
        "\n",
        "**Learning:** How to Take input from command line and process it\n",
        "\n",
        "**Note:** Run the program at cmd line\n",
        "\n",
        "---\n",
        "### **15.1 Add two numbers given at cmd line**\n",
        "**Note:** To run the program at cmd line\n",
        "*     python Program.py 10 20"
      ]
    },
    {
      "cell_type": "code",
      "metadata": {
        "id": "0ieaM9uebNAS"
      },
      "source": [
        "import sys\n",
        "print (sys.argv)\n",
        "a = int(sys.argv[1]) \t# First Number\n",
        "b = int(sys.argv[2])\t# Second Number\n",
        "c = a + b\n",
        "print (a, \" + \", b, \" --> \", c)"
      ],
      "execution_count": null,
      "outputs": []
    },
    {
      "cell_type": "markdown",
      "metadata": {
        "id": "jGBXdT5CbNAT"
      },
      "source": [
        "---\n",
        "### **15.2 Concatinate two strings given at cmd line**\n",
        "**Note:** To run the program at cmd line\n",
        "*   python Program.py FirstString SecondString\n",
        "\n",
        "---"
      ]
    },
    {
      "cell_type": "code",
      "metadata": {
        "id": "dg117QSIbNAU"
      },
      "source": [
        "import sys\n",
        "print (sys.argv)\n",
        "s = sys.argv[1] + \" \" + sys.argv[2]\n",
        "print (sys.argv[1], \" + \", sys.argv[2], \" --> \", s)"
      ],
      "execution_count": null,
      "outputs": []
    },
    {
      "cell_type": "markdown",
      "metadata": {
        "id": "Gtu3hMwabNAW"
      },
      "source": [
        "---\n",
        "### **15.3 Add all the numbers given at cmd line**\n",
        "**Note:** To run the program at cmd line\n",
        "*   python Program.py\n",
        "*   python Program.py 10\n",
        "*   python Program.py 10 20 30 40\n",
        "\n",
        "---"
      ]
    },
    {
      "cell_type": "code",
      "metadata": {
        "id": "QSHWbDHmbNAX"
      },
      "source": [
        "import sys\n",
        "print (sys.argv)\n",
        "sum=0\n",
        "for s in sys.argv[1:]:\n",
        "\tsum += int(s)\n",
        "\n",
        "print (\"Sum is --> \", sum)"
      ],
      "execution_count": null,
      "outputs": []
    },
    {
      "cell_type": "markdown",
      "metadata": {
        "id": "-wicdMoyfLoZ"
      },
      "source": [
        "---\n",
        "# **16 File Handling**\n",
        "\n",
        "**Learning:** How to open the file, read the file and write in the file\n",
        "\n",
        "---\n",
        "### **16.1 Writing 1 to 10 in file**"
      ]
    },
    {
      "cell_type": "code",
      "metadata": {
        "id": "oX-fBKbpfLob"
      },
      "source": [
        "fp=open('result.txt','w')\t# Open the file in writing mode\n",
        "for  i in range(1,11):\n",
        "\tfp.write(str(i) + \"\\n\")\t# Writing to the file line by line\n",
        "fp.close()\n",
        "\n",
        "print (\"Writing done !! \\nOpen result.txt to view the content\")"
      ],
      "execution_count": null,
      "outputs": []
    },
    {
      "cell_type": "markdown",
      "metadata": {
        "id": "-6OU-QD_fLoc"
      },
      "source": [
        "---\n",
        "### **16.2 Read a file and print its content**\n",
        "---\n"
      ]
    },
    {
      "cell_type": "code",
      "metadata": {
        "id": "jiPQizlEfLod"
      },
      "source": [
        "fp=open('result.txt')\t\t# Open the file in reading mode\n",
        "for line in fp: \t\t    # print line by line\n",
        "\tprint (line.strip())\n",
        "fp.close()"
      ],
      "execution_count": null,
      "outputs": []
    },
    {
      "cell_type": "markdown",
      "metadata": {
        "id": "Sby32ykwfLof"
      },
      "source": [
        "---\n",
        "### **16.3 Read from one file, Convert it to upper case and write to other file**\n",
        "---"
      ]
    },
    {
      "cell_type": "code",
      "metadata": {
        "id": "rjvJZNv_fLoh"
      },
      "source": [
        "Readfp=open('result.txt')\t\t# Open the file in reading mode\n",
        "Writefp=open('abc.txt','w')\t# Open the file in writing mode\n",
        "for line in Readfp:\n",
        "\tWritefp.write(line.upper())\n",
        "\n",
        "Writefp.close()\n",
        "Readfp.close()\n",
        "\n",
        "print (\"Writing done !! \\nOpen result.txt to view the content\")"
      ],
      "execution_count": null,
      "outputs": []
    }
  ]
}